{
 "cells": [
  {
   "cell_type": "code",
   "execution_count": 1,
   "metadata": {
    "ExecuteTime": {
     "end_time": "2023-07-14T21:02:45.604834485Z",
     "start_time": "2023-07-14T21:02:45.110827477Z"
    }
   },
   "outputs": [
    {
     "name": "stdout",
     "output_type": "stream",
     "text": [
      "3.5.4\n"
     ]
    }
   ],
   "source": [
    "import converters\n",
    "import spacy\n",
    "print(spacy.__version__)\n",
    "# nlp = spacy.load('de_dep_news_trf')"
   ]
  },
  {
   "cell_type": "code",
   "execution_count": 2,
   "metadata": {},
   "outputs": [
    {
     "name": "stdout",
     "output_type": "stream",
     "text": [
      "loading: /veld/input/ner_apis_2020-01-29_13:19:53/corpus/evalset.pickle\n"
     ]
    },
    {
     "ename": "FileNotFoundError",
     "evalue": "[Errno 2] No such file or directory: '/veld/input/ner_apis_2020-01-29_13:19:53/corpus/evalset.pickle'",
     "output_type": "error",
     "traceback": [
      "\u001B[0;31m---------------------------------------------------------------------------\u001B[0m",
      "\u001B[0;31mFileNotFoundError\u001B[0m                         Traceback (most recent call last)",
      "\u001B[0;32m/tmp/ipykernel_44549/940152736.py\u001B[0m in \u001B[0;36m<module>\u001B[0;34m\u001B[0m\n\u001B[1;32m      1\u001B[0m \u001B[0;31m# converters.convert_apis_ner_2019_12_03()\u001B[0m\u001B[0;34m\u001B[0m\u001B[0;34m\u001B[0m\u001B[0;34m\u001B[0m\u001B[0m\n\u001B[1;32m      2\u001B[0m \u001B[0mx\u001B[0m \u001B[0;34m=\u001B[0m \u001B[0;36m1\u001B[0m\u001B[0;34m\u001B[0m\u001B[0;34m\u001B[0m\u001B[0m\n\u001B[0;32m----> 3\u001B[0;31m \u001B[0mconverters\u001B[0m\u001B[0;34m.\u001B[0m\u001B[0mrun_all\u001B[0m\u001B[0;34m(\u001B[0m\u001B[0;34m)\u001B[0m\u001B[0;34m\u001B[0m\u001B[0;34m\u001B[0m\u001B[0m\n\u001B[0m\u001B[1;32m      4\u001B[0m \u001B[0mprint\u001B[0m\u001B[0;34m(\u001B[0m\u001B[0mx\u001B[0m\u001B[0;34m)\u001B[0m\u001B[0;34m\u001B[0m\u001B[0;34m\u001B[0m\u001B[0m\n",
      "\u001B[0;32m~/veld/exp/veld_experimental_repos/veld_chain_6__apis_ner_transform_to_conll2003/veld_executable_4__apis_ner_transform_to_conll2003/src/converters.py\u001B[0m in \u001B[0;36mrun_all\u001B[0;34m()\u001B[0m\n\u001B[1;32m    237\u001B[0m \u001B[0;32mdef\u001B[0m \u001B[0mrun_all\u001B[0m\u001B[0;34m(\u001B[0m\u001B[0;34m)\u001B[0m\u001B[0;34m:\u001B[0m\u001B[0;34m\u001B[0m\u001B[0;34m\u001B[0m\u001B[0m\n\u001B[1;32m    238\u001B[0m     \u001B[0;31m# convert_apis_ner_2019_12_03()\u001B[0m\u001B[0;34m\u001B[0m\u001B[0;34m\u001B[0m\u001B[0;34m\u001B[0m\u001B[0m\n\u001B[0;32m--> 239\u001B[0;31m     \u001B[0mconvert_apis_ner_2020_01_02_until_2020_04_16\u001B[0m\u001B[0;34m(\u001B[0m\u001B[0;34m)\u001B[0m\u001B[0;34m\u001B[0m\u001B[0;34m\u001B[0m\u001B[0m\n\u001B[0m\u001B[1;32m    240\u001B[0m \u001B[0;34m\u001B[0m\u001B[0m\n\u001B[1;32m    241\u001B[0m \u001B[0;32mif\u001B[0m \u001B[0m__name__\u001B[0m \u001B[0;34m==\u001B[0m \u001B[0;34m\"__main__\"\u001B[0m\u001B[0;34m:\u001B[0m\u001B[0;34m\u001B[0m\u001B[0;34m\u001B[0m\u001B[0m\n",
      "\u001B[0;32m~/veld/exp/veld_experimental_repos/veld_chain_6__apis_ner_transform_to_conll2003/veld_executable_4__apis_ner_transform_to_conll2003/src/converters.py\u001B[0m in \u001B[0;36mconvert_apis_ner_2020_01_02_until_2020_04_16\u001B[0;34m()\u001B[0m\n\u001B[1;32m    216\u001B[0m     \u001B[0;31m# convert_pickled_ner_tuples(\"/veld/input/ner_apis_2020-01-02_12:34:48/corpus/evalset.pickle\")\u001B[0m\u001B[0;34m\u001B[0m\u001B[0;34m\u001B[0m\u001B[0;34m\u001B[0m\u001B[0m\n\u001B[1;32m    217\u001B[0m     \u001B[0;31m# convert_pickled_ner_tuples(\"/veld/input/ner_apis_2020-01-29_13:19:53/corpus/trainset.pickle\")\u001B[0m\u001B[0;34m\u001B[0m\u001B[0;34m\u001B[0m\u001B[0;34m\u001B[0m\u001B[0m\n\u001B[0;32m--> 218\u001B[0;31m     \u001B[0mconvert_pickled_ner_tuples\u001B[0m\u001B[0;34m(\u001B[0m\u001B[0;34m\"/veld/input/ner_apis_2020-01-29_13:19:53/corpus/evalset.pickle\"\u001B[0m\u001B[0;34m)\u001B[0m\u001B[0;34m\u001B[0m\u001B[0;34m\u001B[0m\u001B[0m\n\u001B[0m\u001B[1;32m    219\u001B[0m     \u001B[0;31m# convert_pickled_ner_classes(\"/veld/input/ner_apis_2020-04-07_15:00:35/corpus/trainset.pickle\")\u001B[0m\u001B[0;34m\u001B[0m\u001B[0;34m\u001B[0m\u001B[0;34m\u001B[0m\u001B[0m\n\u001B[1;32m    220\u001B[0m     \u001B[0;31m# convert_pickled_ner_classes(\"/veld/input/ner_apis_2020-04-07_15:00:35/corpus/evalset.pickle\")\u001B[0m\u001B[0;34m\u001B[0m\u001B[0;34m\u001B[0m\u001B[0;34m\u001B[0m\u001B[0m\n",
      "\u001B[0;32m~/veld/exp/veld_experimental_repos/veld_chain_6__apis_ner_transform_to_conll2003/veld_executable_4__apis_ner_transform_to_conll2003/src/converters.py\u001B[0m in \u001B[0;36mconvert_pickled_ner_tuples\u001B[0;34m(pickle_file_path)\u001B[0m\n\u001B[1;32m    141\u001B[0m \u001B[0;32mdef\u001B[0m \u001B[0mconvert_pickled_ner_tuples\u001B[0m\u001B[0;34m(\u001B[0m\u001B[0mpickle_file_path\u001B[0m\u001B[0;34m)\u001B[0m\u001B[0;34m:\u001B[0m\u001B[0;34m\u001B[0m\u001B[0;34m\u001B[0m\u001B[0m\n\u001B[1;32m    142\u001B[0m     \u001B[0mconverted_data\u001B[0m \u001B[0;34m=\u001B[0m \u001B[0;32mNone\u001B[0m\u001B[0;34m\u001B[0m\u001B[0;34m\u001B[0m\u001B[0m\n\u001B[0;32m--> 143\u001B[0;31m     \u001B[0mpickle_data\u001B[0m \u001B[0;34m=\u001B[0m \u001B[0mread_pickle_individual\u001B[0m\u001B[0;34m(\u001B[0m\u001B[0mpickle_file_path\u001B[0m\u001B[0;34m)\u001B[0m\u001B[0;34m\u001B[0m\u001B[0;34m\u001B[0m\u001B[0m\n\u001B[0m\u001B[1;32m    144\u001B[0m     \u001B[0mall_datasets\u001B[0m\u001B[0;34m.\u001B[0m\u001B[0mappend\u001B[0m\u001B[0;34m(\u001B[0m\u001B[0mpickle_data\u001B[0m\u001B[0;34m)\u001B[0m\u001B[0;34m\u001B[0m\u001B[0;34m\u001B[0m\u001B[0m\n\u001B[1;32m    145\u001B[0m \u001B[0;34m\u001B[0m\u001B[0m\n",
      "\u001B[0;32m~/veld/exp/veld_experimental_repos/veld_chain_6__apis_ner_transform_to_conll2003/veld_executable_4__apis_ner_transform_to_conll2003/src/converters.py\u001B[0m in \u001B[0;36mread_pickle_individual\u001B[0;34m(pickle_file_path)\u001B[0m\n\u001B[1;32m    136\u001B[0m \u001B[0;34m\u001B[0m\u001B[0m\n\u001B[1;32m    137\u001B[0m     \u001B[0mprint\u001B[0m\u001B[0;34m(\u001B[0m\u001B[0;34mf\"loading: {pickle_file_path}\"\u001B[0m\u001B[0;34m)\u001B[0m\u001B[0;34m\u001B[0m\u001B[0;34m\u001B[0m\u001B[0m\n\u001B[0;32m--> 138\u001B[0;31m     \u001B[0;32mreturn\u001B[0m \u001B[0mpickle\u001B[0m\u001B[0;34m.\u001B[0m\u001B[0mload\u001B[0m\u001B[0;34m(\u001B[0m\u001B[0mopen\u001B[0m\u001B[0;34m(\u001B[0m\u001B[0mpickle_file_path\u001B[0m\u001B[0;34m,\u001B[0m \u001B[0;34m\"rb\"\u001B[0m\u001B[0;34m)\u001B[0m\u001B[0;34m)\u001B[0m\u001B[0;34m\u001B[0m\u001B[0;34m\u001B[0m\u001B[0m\n\u001B[0m\u001B[1;32m    139\u001B[0m \u001B[0;34m\u001B[0m\u001B[0m\n\u001B[1;32m    140\u001B[0m \u001B[0;34m\u001B[0m\u001B[0m\n",
      "\u001B[0;31mFileNotFoundError\u001B[0m: [Errno 2] No such file or directory: '/veld/input/ner_apis_2020-01-29_13:19:53/corpus/evalset.pickle'"
     ]
    }
   ],
   "source": [
    "# converters.convert_apis_ner_2019_12_03()\n",
    "x = 1\n",
    "converters.run_all()\n",
    "print(x)"
   ]
  },
  {
   "cell_type": "code",
   "execution_count": null,
   "outputs": [],
   "source": [],
   "metadata": {
    "collapsed": false
   }
  }
 ],
 "metadata": {
  "kernelspec": {
   "display_name": "Python 3 (ipykernel)",
   "language": "python",
   "name": "python3"
  },
  "language_info": {
   "codemirror_mode": {
    "name": "ipython",
    "version": 3
   },
   "file_extension": ".py",
   "mimetype": "text/x-python",
   "name": "python",
   "nbconvert_exporter": "python",
   "pygments_lexer": "ipython3",
   "version": "3.7.6"
  }
 },
 "nbformat": 4,
 "nbformat_minor": 1
}
